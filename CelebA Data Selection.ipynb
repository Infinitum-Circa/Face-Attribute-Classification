{
 "cells": [
  {
   "cell_type": "code",
   "execution_count": 2,
   "metadata": {},
   "outputs": [],
   "source": [
    "import json\n",
    "import re\n",
    "import os\n",
    "import cv2\n",
    "import numpy as np\n",
    "from tqdm import tqdm"
   ]
  },
  {
   "cell_type": "code",
   "execution_count": 4,
   "metadata": {},
   "outputs": [
    {
     "name": "stderr",
     "output_type": "stream",
     "text": [
      "100%|████████████████████████████████████████████████████████████████████████| 202599/202599 [00:22<00:00, 8942.10it/s]\n"
     ]
    }
   ],
   "source": [
    "annotation_path = 'dataset/list_attr_celeba.txt'\n",
    "json_filename = 'selected_CelebA_annotation.json'\n",
    "num_mixed = 10000\n",
    "mixed = 0\n",
    "\n",
    "with open(annotation_path) as f:\n",
    "    num_annotation = int(f.readline()[:-1])\n",
    "    classes = re.findall(r'\\s?(\\s*\\S+)', f.readline().rstrip())\n",
    "    selected_classes = [classes.index(\"Eyeglasses\"), classes.index(\"Mustache\"), classes.index(\"No_Beard\"), classes.index(\"Wearing_Hat\")]\n",
    "    annotations = {}\n",
    "    pbar = tqdm(total=num_annotation)\n",
    "    for i in range(num_annotation):\n",
    "        data = f.readline()\n",
    "        filename = os.path.splitext(data.split(\" \")[0])[0]\n",
    "        labels = re.findall(r'\\s?(\\s*\\S+)', data.rstrip())[1:]\n",
    "        labels = np.array(list(np.array(labels)[selected_classes]))\n",
    "        labels[2] = np.where(labels[2] == ' 1', '-1', '1')\n",
    "        labels = np.where(labels == '-1', '0', '1')\n",
    "        if '1' in labels:\n",
    "            annotations[filename] = list(labels)\n",
    "        elif mixed < num_mixed:\n",
    "            annotations[filename] = list(labels)\n",
    "            mixed += 1\n",
    "        pbar.update(1)\n",
    "pbar.close()\n",
    "\n",
    "# with open(json_filename, 'w') as f:\n",
    "#     json.dump(annotations, f)\n",
    "# print('Annotation saved at {}'.format(json_filename))"
   ]
  },
  {
   "cell_type": "code",
   "execution_count": 5,
   "metadata": {},
   "outputs": [
    {
     "data": {
      "text/plain": [
       "58174"
      ]
     },
     "execution_count": 5,
     "metadata": {},
     "output_type": "execute_result"
    }
   ],
   "source": [
    "len(annotations.keys())"
   ]
  },
  {
   "cell_type": "code",
   "execution_count": 6,
   "metadata": {},
   "outputs": [
    {
     "data": {
      "text/plain": [
       "['0', '0', '1', '0']"
      ]
     },
     "execution_count": 6,
     "metadata": {},
     "output_type": "execute_result"
    }
   ],
   "source": [
    "annotations['000020']"
   ]
  },
  {
   "cell_type": "markdown",
   "metadata": {},
   "source": [
    "## Save selected image only"
   ]
  },
  {
   "cell_type": "code",
   "execution_count": 13,
   "metadata": {},
   "outputs": [],
   "source": [
    "dataset_path = 'dataset/img_align_celeba_png'\n",
    "selected_path = 'dataset/selected_celebA'\n",
    "image_ext = '.png'\n",
    "\n",
    "if not os.path.exists(selected_path):\n",
    "    os.mkdir(selected_path)\n",
    "\n",
    "for key in tqdm(annotations.keys(), 'Selecting image'):\n",
    "    filename = os.path.join(dataset_path, key) + image_ext\n",
    "    img = cv2.imread(filename)\n",
    "    cv2.imwrite(os.path.join(selected_path, key) + image_ext, img)"
   ]
  },
  {
   "cell_type": "code",
   "execution_count": 7,
   "metadata": {},
   "outputs": [
    {
     "data": {
      "text/plain": [
       "['-1', '-1', '-1', '-1']"
      ]
     },
     "execution_count": 7,
     "metadata": {},
     "output_type": "execute_result"
    }
   ],
   "source": [
    "string = '-1 -1 -1 -1 -1 -1 -1 -1  1 -1 -1 -1 -1  1 -1 -1  1 -1 -1 -1  1  1 -1  1 -1 -1 -1 -1 -1 -1  1 -1 -1 -1 -1 -1 -1 -1 -1  1'\n",
    "lbl = re.findall(r'\\s?(\\s*\\S+)', string.rstrip())\n",
    "list(np.array(lbl)[selected_classes])"
   ]
  },
  {
   "cell_type": "code",
   "execution_count": 14,
   "metadata": {},
   "outputs": [
    {
     "data": {
      "text/plain": [
       "'Mustache'"
      ]
     },
     "execution_count": 14,
     "metadata": {},
     "output_type": "execute_result"
    }
   ],
   "source": [
    "classes[22]"
   ]
  },
  {
   "cell_type": "code",
   "execution_count": 15,
   "metadata": {
    "scrolled": true
   },
   "outputs": [
    {
     "data": {
      "text/plain": [
       "'-1'"
      ]
     },
     "execution_count": 15,
     "metadata": {},
     "output_type": "execute_result"
    }
   ],
   "source": [
    "lbl[22]"
   ]
  }
 ],
 "metadata": {
  "kernelspec": {
   "display_name": "Python 3",
   "language": "python",
   "name": "python3"
  },
  "language_info": {
   "codemirror_mode": {
    "name": "ipython",
    "version": 3
   },
   "file_extension": ".py",
   "mimetype": "text/x-python",
   "name": "python",
   "nbconvert_exporter": "python",
   "pygments_lexer": "ipython3",
   "version": "3.6.7"
  }
 },
 "nbformat": 4,
 "nbformat_minor": 2
}
